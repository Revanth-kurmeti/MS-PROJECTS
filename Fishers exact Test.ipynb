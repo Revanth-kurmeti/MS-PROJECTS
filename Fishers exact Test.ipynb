{
 "cells": [
  {
   "cell_type": "markdown",
   "metadata": {},
   "source": [
    "# 1.1 Generating Your Own Unique Data"
   ]
  },
  {
   "cell_type": "code",
   "execution_count": 1,
   "metadata": {},
   "outputs": [],
   "source": [
    "%run datasetGenerator.py --ID 1002068038"
   ]
  },
  {
   "cell_type": "markdown",
   "metadata": {},
   "source": [
    "# 1.2 Fisher’s Exact Test "
   ]
  },
  {
   "cell_type": "code",
   "execution_count": 2,
   "metadata": {},
   "outputs": [
    {
     "name": "stdout",
     "output_type": "stream",
     "text": [
      "allele ratio is  481:511\n"
     ]
    }
   ],
   "source": [
    "import numpy as np\n",
    "import pandas as pd\n",
    "import matplotlib.pyplot as plt\n",
    "import math\n",
    "from scipy.stats import fisher_exact \n",
    "#reading CSV File\n",
    "d=pd.read_csv(r\"C:\\Users\\revan\\1002068038.csv\")\n",
    "d.head()\n",
    "#declaring the dataframes as seperate lists\n",
    "A=list(d['Case_Num_C_Allele'])\n",
    "B=list(d['Control_Num_C_Allele'])\n",
    "C=list(d['Case_Num_T_Allele'])\n",
    "D=list(d['Control_Num_T_Allele'])\n",
    "#defining empty lists for odds ratio and p value\n",
    "pvalue=[]\n",
    "odd=[]\n",
    "for i in range(len(A)):\n",
    "     table=np.array([[C[i],A[i]],[D[i],B[i]]])\n",
    "     #finding odds ratio and p values\n",
    "     o,p=fisher_exact(table,alternative=\"less\")\n",
    "     pvalue.append(p)\n",
    "     odd.append(o)\n",
    "df = pd.read_csv(\"C:/Users/revan/1002068038.csv\")\n",
    "df[\"odds_Ratio\"] = odd\n",
    "df[\"p_Values\"]=pvalue\n",
    "#appending odds ratio and p values to the exisiting csv file form given path\n",
    "df.to_csv(\"C:/Users/revan/1002068038.csv\", index=False)\n",
    "p=0\n",
    "q=0\n",
    "for i in odd:\n",
    "    if i>1:\n",
    "        #print(i)\n",
    "        p+=1\n",
    "    elif i<1:\n",
    "        q+=1\n",
    "print(\"allele ratio is  {}:{}\".format(p,q))\n"
   ]
  },
  {
   "cell_type": "code",
   "execution_count": 16,
   "metadata": {},
   "outputs": [
    {
     "name": "stdout",
     "output_type": "stream",
     "text": [
      "No.of SNP's that are significant under effective p value are:159\n",
      "['SNP7', 'SNP12', 'SNP13', 'SNP19', 'SNP21', 'SNP27', 'SNP28', 'SNP31', 'SNP35', 'SNP37', 'SNP43', 'SNP60', 'SNP62', 'SNP63', 'SNP68', 'SNP73', 'SNP77', 'SNP80', 'SNP86', 'SNP90', 'SNP95', 'SNP96', 'SNP98', 'SNP100', 'SNP108', 'SNP114', 'SNP120', 'SNP126', 'SNP128', 'SNP147', 'SNP161', 'SNP173', 'SNP178', 'SNP200', 'SNP201', 'SNP205', 'SNP207', 'SNP209', 'SNP230', 'SNP232', 'SNP236', 'SNP240', 'SNP248', 'SNP261', 'SNP264', 'SNP268', 'SNP270', 'SNP273', 'SNP277', 'SNP280', 'SNP285', 'SNP287', 'SNP299', 'SNP300', 'SNP301', 'SNP302', 'SNP307', 'SNP314', 'SNP324', 'SNP331', 'SNP344', 'SNP345', 'SNP366', 'SNP368', 'SNP381', 'SNP384', 'SNP390', 'SNP406', 'SNP409', 'SNP434', 'SNP437', 'SNP445', 'SNP447', 'SNP466', 'SNP467', 'SNP470', 'SNP476', 'SNP479', 'SNP480', 'SNP486', 'SNP493', 'SNP502', 'SNP523', 'SNP526', 'SNP532', 'SNP539', 'SNP540', 'SNP542', 'SNP553', 'SNP558', 'SNP559', 'SNP582', 'SNP607', 'SNP614', 'SNP620', 'SNP631', 'SNP635', 'SNP636', 'SNP637', 'SNP643', 'SNP648', 'SNP655', 'SNP656', 'SNP672', 'SNP685', 'SNP686', 'SNP691', 'SNP695', 'SNP699', 'SNP704', 'SNP710', 'SNP712', 'SNP725', 'SNP729', 'SNP745', 'SNP749', 'SNP755', 'SNP765', 'SNP774', 'SNP775', 'SNP776', 'SNP783', 'SNP797', 'SNP800', 'SNP803', 'SNP808', 'SNP809', 'SNP810', 'SNP816', 'SNP821', 'SNP825', 'SNP826', 'SNP851', 'SNP859', 'SNP860', 'SNP874', 'SNP876', 'SNP877', 'SNP881', 'SNP885', 'SNP895', 'SNP897', 'SNP901', 'SNP908', 'SNP909', 'SNP910', 'SNP920', 'SNP927', 'SNP940', 'SNP943', 'SNP955', 'SNP956', 'SNP967', 'SNP969', 'SNP970', 'SNP972', 'SNP980', 'SNP987', 'SNP999']\n"
     ]
    }
   ],
   "source": [
    "Effective_P=5*math.pow(10,-8)\n",
    "c=1\n",
    "v=[]\n",
    "for i in pvalue:\n",
    "    if(i<Effective_P):\n",
    "        v.append('SNP'+str(c))\n",
    "    c+=1\n",
    "print(\"No.of SNP's that are significant under effective p value are:{}\".format(len(v)))\n",
    "#SNP's that are significant under effective p value\n",
    "print(v)\n"
   ]
  },
  {
   "cell_type": "code",
   "execution_count": 17,
   "metadata": {
    "scrolled": true
   },
   "outputs": [
    {
     "data": {
      "text/html": [
       "<div>\n",
       "<style scoped>\n",
       "    .dataframe tbody tr th:only-of-type {\n",
       "        vertical-align: middle;\n",
       "    }\n",
       "\n",
       "    .dataframe tbody tr th {\n",
       "        vertical-align: top;\n",
       "    }\n",
       "\n",
       "    .dataframe thead th {\n",
       "        text-align: right;\n",
       "    }\n",
       "</style>\n",
       "<table border=\"1\" class=\"dataframe\">\n",
       "  <thead>\n",
       "    <tr style=\"text-align: right;\">\n",
       "      <th></th>\n",
       "      <th>SNP</th>\n",
       "      <th>Case_Num_C_Allele</th>\n",
       "      <th>Case_Num_T_Allele</th>\n",
       "      <th>Control_Num_C_Allele</th>\n",
       "      <th>Control_Num_T_Allele</th>\n",
       "      <th>odds_Ratio</th>\n",
       "      <th>p_Values</th>\n",
       "      <th>minuslog10pvalue</th>\n",
       "    </tr>\n",
       "  </thead>\n",
       "  <tbody>\n",
       "    <tr>\n",
       "      <th>0</th>\n",
       "      <td>0</td>\n",
       "      <td>24</td>\n",
       "      <td>26</td>\n",
       "      <td>85</td>\n",
       "      <td>15</td>\n",
       "      <td>6.138889</td>\n",
       "      <td>9.999995e-01</td>\n",
       "      <td>2.013134e-07</td>\n",
       "    </tr>\n",
       "    <tr>\n",
       "      <th>1</th>\n",
       "      <td>1</td>\n",
       "      <td>17</td>\n",
       "      <td>33</td>\n",
       "      <td>18</td>\n",
       "      <td>82</td>\n",
       "      <td>0.426112</td>\n",
       "      <td>2.532060e-02</td>\n",
       "      <td>1.596526e+00</td>\n",
       "    </tr>\n",
       "    <tr>\n",
       "      <th>2</th>\n",
       "      <td>2</td>\n",
       "      <td>11</td>\n",
       "      <td>39</td>\n",
       "      <td>78</td>\n",
       "      <td>22</td>\n",
       "      <td>12.570248</td>\n",
       "      <td>1.000000e+00</td>\n",
       "      <td>1.426964e-12</td>\n",
       "    </tr>\n",
       "    <tr>\n",
       "      <th>3</th>\n",
       "      <td>3</td>\n",
       "      <td>22</td>\n",
       "      <td>28</td>\n",
       "      <td>41</td>\n",
       "      <td>59</td>\n",
       "      <td>0.884438</td>\n",
       "      <td>4.292172e-01</td>\n",
       "      <td>3.673228e-01</td>\n",
       "    </tr>\n",
       "    <tr>\n",
       "      <th>4</th>\n",
       "      <td>4</td>\n",
       "      <td>23</td>\n",
       "      <td>27</td>\n",
       "      <td>97</td>\n",
       "      <td>3</td>\n",
       "      <td>37.956522</td>\n",
       "      <td>1.000000e+00</td>\n",
       "      <td>3.568012e-15</td>\n",
       "    </tr>\n",
       "    <tr>\n",
       "      <th>...</th>\n",
       "      <td>...</td>\n",
       "      <td>...</td>\n",
       "      <td>...</td>\n",
       "      <td>...</td>\n",
       "      <td>...</td>\n",
       "      <td>...</td>\n",
       "      <td>...</td>\n",
       "      <td>...</td>\n",
       "    </tr>\n",
       "    <tr>\n",
       "      <th>995</th>\n",
       "      <td>995</td>\n",
       "      <td>34</td>\n",
       "      <td>16</td>\n",
       "      <td>27</td>\n",
       "      <td>73</td>\n",
       "      <td>0.174053</td>\n",
       "      <td>1.653439e-06</td>\n",
       "      <td>5.781612e+00</td>\n",
       "    </tr>\n",
       "    <tr>\n",
       "      <th>996</th>\n",
       "      <td>996</td>\n",
       "      <td>1</td>\n",
       "      <td>49</td>\n",
       "      <td>47</td>\n",
       "      <td>53</td>\n",
       "      <td>43.452830</td>\n",
       "      <td>1.000000e+00</td>\n",
       "      <td>8.454837e-12</td>\n",
       "    </tr>\n",
       "    <tr>\n",
       "      <th>997</th>\n",
       "      <td>997</td>\n",
       "      <td>18</td>\n",
       "      <td>32</td>\n",
       "      <td>20</td>\n",
       "      <td>80</td>\n",
       "      <td>0.444444</td>\n",
       "      <td>2.846233e-02</td>\n",
       "      <td>1.545730e+00</td>\n",
       "    </tr>\n",
       "    <tr>\n",
       "      <th>998</th>\n",
       "      <td>998</td>\n",
       "      <td>41</td>\n",
       "      <td>9</td>\n",
       "      <td>26</td>\n",
       "      <td>74</td>\n",
       "      <td>0.077126</td>\n",
       "      <td>4.763493e-11</td>\n",
       "      <td>1.032207e+01</td>\n",
       "    </tr>\n",
       "    <tr>\n",
       "      <th>999</th>\n",
       "      <td>999</td>\n",
       "      <td>44</td>\n",
       "      <td>6</td>\n",
       "      <td>93</td>\n",
       "      <td>7</td>\n",
       "      <td>1.811688</td>\n",
       "      <td>9.064801e-01</td>\n",
       "      <td>4.264171e-02</td>\n",
       "    </tr>\n",
       "  </tbody>\n",
       "</table>\n",
       "<p>1000 rows × 8 columns</p>\n",
       "</div>"
      ],
      "text/plain": [
       "     SNP  Case_Num_C_Allele  Case_Num_T_Allele  Control_Num_C_Allele  \\\n",
       "0      0                 24                 26                    85   \n",
       "1      1                 17                 33                    18   \n",
       "2      2                 11                 39                    78   \n",
       "3      3                 22                 28                    41   \n",
       "4      4                 23                 27                    97   \n",
       "..   ...                ...                ...                   ...   \n",
       "995  995                 34                 16                    27   \n",
       "996  996                  1                 49                    47   \n",
       "997  997                 18                 32                    20   \n",
       "998  998                 41                  9                    26   \n",
       "999  999                 44                  6                    93   \n",
       "\n",
       "     Control_Num_T_Allele  odds_Ratio      p_Values  minuslog10pvalue  \n",
       "0                      15    6.138889  9.999995e-01      2.013134e-07  \n",
       "1                      82    0.426112  2.532060e-02      1.596526e+00  \n",
       "2                      22   12.570248  1.000000e+00      1.426964e-12  \n",
       "3                      59    0.884438  4.292172e-01      3.673228e-01  \n",
       "4                       3   37.956522  1.000000e+00      3.568012e-15  \n",
       "..                    ...         ...           ...               ...  \n",
       "995                    73    0.174053  1.653439e-06      5.781612e+00  \n",
       "996                    53   43.452830  1.000000e+00      8.454837e-12  \n",
       "997                    80    0.444444  2.846233e-02      1.545730e+00  \n",
       "998                    74    0.077126  4.763493e-11      1.032207e+01  \n",
       "999                     7    1.811688  9.064801e-01      4.264171e-02  \n",
       "\n",
       "[1000 rows x 8 columns]"
      ]
     },
     "execution_count": 17,
     "metadata": {},
     "output_type": "execute_result"
    }
   ],
   "source": [
    "df"
   ]
  },
  {
   "cell_type": "code",
   "execution_count": 18,
   "metadata": {},
   "outputs": [],
   "source": [
    "pValues = df['p_Values']\n",
    "SNP=df['SNP']\n",
    "result_pvalues = pd.DataFrame(SNP)\n",
    "\n"
   ]
  },
  {
   "cell_type": "code",
   "execution_count": 19,
   "metadata": {},
   "outputs": [
    {
     "data": {
      "text/html": [
       "<div>\n",
       "<style scoped>\n",
       "    .dataframe tbody tr th:only-of-type {\n",
       "        vertical-align: middle;\n",
       "    }\n",
       "\n",
       "    .dataframe tbody tr th {\n",
       "        vertical-align: top;\n",
       "    }\n",
       "\n",
       "    .dataframe thead th {\n",
       "        text-align: right;\n",
       "    }\n",
       "</style>\n",
       "<table border=\"1\" class=\"dataframe\">\n",
       "  <thead>\n",
       "    <tr style=\"text-align: right;\">\n",
       "      <th></th>\n",
       "      <th>SNP</th>\n",
       "    </tr>\n",
       "  </thead>\n",
       "  <tbody>\n",
       "    <tr>\n",
       "      <th>0</th>\n",
       "      <td>0</td>\n",
       "    </tr>\n",
       "    <tr>\n",
       "      <th>1</th>\n",
       "      <td>1</td>\n",
       "    </tr>\n",
       "    <tr>\n",
       "      <th>2</th>\n",
       "      <td>2</td>\n",
       "    </tr>\n",
       "    <tr>\n",
       "      <th>3</th>\n",
       "      <td>3</td>\n",
       "    </tr>\n",
       "    <tr>\n",
       "      <th>4</th>\n",
       "      <td>4</td>\n",
       "    </tr>\n",
       "    <tr>\n",
       "      <th>...</th>\n",
       "      <td>...</td>\n",
       "    </tr>\n",
       "    <tr>\n",
       "      <th>995</th>\n",
       "      <td>995</td>\n",
       "    </tr>\n",
       "    <tr>\n",
       "      <th>996</th>\n",
       "      <td>996</td>\n",
       "    </tr>\n",
       "    <tr>\n",
       "      <th>997</th>\n",
       "      <td>997</td>\n",
       "    </tr>\n",
       "    <tr>\n",
       "      <th>998</th>\n",
       "      <td>998</td>\n",
       "    </tr>\n",
       "    <tr>\n",
       "      <th>999</th>\n",
       "      <td>999</td>\n",
       "    </tr>\n",
       "  </tbody>\n",
       "</table>\n",
       "<p>1000 rows × 1 columns</p>\n",
       "</div>"
      ],
      "text/plain": [
       "     SNP\n",
       "0      0\n",
       "1      1\n",
       "2      2\n",
       "3      3\n",
       "4      4\n",
       "..   ...\n",
       "995  995\n",
       "996  996\n",
       "997  997\n",
       "998  998\n",
       "999  999\n",
       "\n",
       "[1000 rows x 1 columns]"
      ]
     },
     "execution_count": 19,
     "metadata": {},
     "output_type": "execute_result"
    }
   ],
   "source": [
    "result_pvalues"
   ]
  },
  {
   "cell_type": "markdown",
   "metadata": {},
   "source": [
    "# 1.3 Corrected P-Values"
   ]
  },
  {
   "cell_type": "code",
   "execution_count": 20,
   "metadata": {},
   "outputs": [
    {
     "name": "stdout",
     "output_type": "stream",
     "text": [
      "No.of SNPs significant under corrected ThreeShold  are:108\n"
     ]
    }
   ],
   "source": [
    "j=[]\n",
    "t=[]\n",
    "b=[]\n",
    "Effective_P=5*math.pow(10,-8)\n",
    "corrected_p=5*math.pow(10,-8)/1000\n",
    "#print(len(list(d['SNP'])))\n",
    "c=1\n",
    "for i in pvalue:\n",
    "    if(i<corrected_p):\n",
    "        b.append('SNP'+str(c))\n",
    "    c+=1\n",
    "print(\"No.of SNPs significant under corrected ThreeShold  are:{}\".format(len(b)))\n",
    "#d[\"CorrectedThreeShold\"]=b\n",
    "\n"
   ]
  },
  {
   "cell_type": "code",
   "execution_count": 21,
   "metadata": {},
   "outputs": [
    {
     "name": "stdout",
     "output_type": "stream",
     "text": [
      "['SNP7', 'SNP12', 'SNP13', 'SNP19', 'SNP21', 'SNP27', 'SNP28', 'SNP37', 'SNP43', 'SNP60', 'SNP63', 'SNP68', 'SNP73', 'SNP90', 'SNP95', 'SNP114', 'SNP120', 'SNP128', 'SNP161', 'SNP173', 'SNP178', 'SNP200', 'SNP201', 'SNP205', 'SNP207', 'SNP209', 'SNP232', 'SNP236', 'SNP240', 'SNP248', 'SNP261', 'SNP268', 'SNP273', 'SNP277', 'SNP280', 'SNP287', 'SNP299', 'SNP300', 'SNP301', 'SNP307', 'SNP314', 'SNP331', 'SNP344', 'SNP345', 'SNP368', 'SNP381', 'SNP384', 'SNP406', 'SNP437', 'SNP445', 'SNP447', 'SNP466', 'SNP467', 'SNP470', 'SNP476', 'SNP479', 'SNP480', 'SNP486', 'SNP493', 'SNP502', 'SNP526', 'SNP539', 'SNP540', 'SNP542', 'SNP558', 'SNP559', 'SNP582', 'SNP607', 'SNP614', 'SNP620', 'SNP631', 'SNP635', 'SNP637', 'SNP643', 'SNP648', 'SNP685', 'SNP686', 'SNP691', 'SNP704', 'SNP729', 'SNP745', 'SNP749', 'SNP755', 'SNP774', 'SNP783', 'SNP797', 'SNP800', 'SNP803', 'SNP809', 'SNP810', 'SNP821', 'SNP826', 'SNP859', 'SNP860', 'SNP874', 'SNP876', 'SNP885', 'SNP895', 'SNP908', 'SNP909', 'SNP910', 'SNP927', 'SNP943', 'SNP955', 'SNP969', 'SNP980', 'SNP987', 'SNP999']\n"
     ]
    }
   ],
   "source": [
    "j.append(-math.log10(Effective_P))\n",
    "t.append(-math.log10(corrected_p))\n",
    "print(b)\n",
    "r=0\n",
    "v=[]\n",
    "j=j*1000\n",
    "\n",
    "for i in pvalue:\n",
    "    v.append(-math.log10(i))\n"
   ]
  },
  {
   "cell_type": "code",
   "execution_count": 22,
   "metadata": {},
   "outputs": [
    {
     "name": "stdout",
     "output_type": "stream",
     "text": [
      "4.9999999999999995e-11\n"
     ]
    }
   ],
   "source": [
    "result_pvalues=result_pvalues.assign(pValues = df['p_Values'])\n",
    "result_pvalues = result_pvalues.assign(significant= df['p_Values']<Effective_P)\n",
    "result_pvalues = result_pvalues.assign(significant_corrected_pvalue= df['p_Values']<corrected_p)\n",
    "print(corrected_p)"
   ]
  },
  {
   "cell_type": "code",
   "execution_count": 23,
   "metadata": {},
   "outputs": [
    {
     "data": {
      "text/plain": [
       "159"
      ]
     },
     "execution_count": 23,
     "metadata": {},
     "output_type": "execute_result"
    }
   ],
   "source": [
    "result_pvalues['significant'].value_counts() [True]"
   ]
  },
  {
   "cell_type": "code",
   "execution_count": 24,
   "metadata": {},
   "outputs": [],
   "source": [
    "result_pvalues.to_csv(\"C:/Users/revan/result.csv\", index=False)"
   ]
  },
  {
   "cell_type": "code",
   "execution_count": 25,
   "metadata": {},
   "outputs": [
    {
     "data": {
      "text/html": [
       "<div>\n",
       "<style scoped>\n",
       "    .dataframe tbody tr th:only-of-type {\n",
       "        vertical-align: middle;\n",
       "    }\n",
       "\n",
       "    .dataframe tbody tr th {\n",
       "        vertical-align: top;\n",
       "    }\n",
       "\n",
       "    .dataframe thead th {\n",
       "        text-align: right;\n",
       "    }\n",
       "</style>\n",
       "<table border=\"1\" class=\"dataframe\">\n",
       "  <thead>\n",
       "    <tr style=\"text-align: right;\">\n",
       "      <th></th>\n",
       "      <th>SNP</th>\n",
       "      <th>pValues</th>\n",
       "      <th>significant</th>\n",
       "      <th>significant_corrected_pvalue</th>\n",
       "    </tr>\n",
       "  </thead>\n",
       "  <tbody>\n",
       "    <tr>\n",
       "      <th>0</th>\n",
       "      <td>0</td>\n",
       "      <td>9.999995e-01</td>\n",
       "      <td>False</td>\n",
       "      <td>False</td>\n",
       "    </tr>\n",
       "    <tr>\n",
       "      <th>1</th>\n",
       "      <td>1</td>\n",
       "      <td>2.532060e-02</td>\n",
       "      <td>False</td>\n",
       "      <td>False</td>\n",
       "    </tr>\n",
       "    <tr>\n",
       "      <th>2</th>\n",
       "      <td>2</td>\n",
       "      <td>1.000000e+00</td>\n",
       "      <td>False</td>\n",
       "      <td>False</td>\n",
       "    </tr>\n",
       "    <tr>\n",
       "      <th>3</th>\n",
       "      <td>3</td>\n",
       "      <td>4.292172e-01</td>\n",
       "      <td>False</td>\n",
       "      <td>False</td>\n",
       "    </tr>\n",
       "    <tr>\n",
       "      <th>4</th>\n",
       "      <td>4</td>\n",
       "      <td>1.000000e+00</td>\n",
       "      <td>False</td>\n",
       "      <td>False</td>\n",
       "    </tr>\n",
       "    <tr>\n",
       "      <th>...</th>\n",
       "      <td>...</td>\n",
       "      <td>...</td>\n",
       "      <td>...</td>\n",
       "      <td>...</td>\n",
       "    </tr>\n",
       "    <tr>\n",
       "      <th>995</th>\n",
       "      <td>995</td>\n",
       "      <td>1.653439e-06</td>\n",
       "      <td>False</td>\n",
       "      <td>False</td>\n",
       "    </tr>\n",
       "    <tr>\n",
       "      <th>996</th>\n",
       "      <td>996</td>\n",
       "      <td>1.000000e+00</td>\n",
       "      <td>False</td>\n",
       "      <td>False</td>\n",
       "    </tr>\n",
       "    <tr>\n",
       "      <th>997</th>\n",
       "      <td>997</td>\n",
       "      <td>2.846233e-02</td>\n",
       "      <td>False</td>\n",
       "      <td>False</td>\n",
       "    </tr>\n",
       "    <tr>\n",
       "      <th>998</th>\n",
       "      <td>998</td>\n",
       "      <td>4.763493e-11</td>\n",
       "      <td>True</td>\n",
       "      <td>True</td>\n",
       "    </tr>\n",
       "    <tr>\n",
       "      <th>999</th>\n",
       "      <td>999</td>\n",
       "      <td>9.064801e-01</td>\n",
       "      <td>False</td>\n",
       "      <td>False</td>\n",
       "    </tr>\n",
       "  </tbody>\n",
       "</table>\n",
       "<p>1000 rows × 4 columns</p>\n",
       "</div>"
      ],
      "text/plain": [
       "     SNP       pValues  significant  significant_corrected_pvalue\n",
       "0      0  9.999995e-01        False                         False\n",
       "1      1  2.532060e-02        False                         False\n",
       "2      2  1.000000e+00        False                         False\n",
       "3      3  4.292172e-01        False                         False\n",
       "4      4  1.000000e+00        False                         False\n",
       "..   ...           ...          ...                           ...\n",
       "995  995  1.653439e-06        False                         False\n",
       "996  996  1.000000e+00        False                         False\n",
       "997  997  2.846233e-02        False                         False\n",
       "998  998  4.763493e-11         True                          True\n",
       "999  999  9.064801e-01        False                         False\n",
       "\n",
       "[1000 rows x 4 columns]"
      ]
     },
     "execution_count": 25,
     "metadata": {},
     "output_type": "execute_result"
    }
   ],
   "source": [
    "result_pvalues"
   ]
  },
  {
   "cell_type": "code",
   "execution_count": 26,
   "metadata": {},
   "outputs": [
    {
     "data": {
      "text/plain": [
       "108"
      ]
     },
     "execution_count": 26,
     "metadata": {},
     "output_type": "execute_result"
    }
   ],
   "source": [
    "result_pvalues['significant_corrected_pvalue'].value_counts() [True]"
   ]
  },
  {
   "cell_type": "code",
   "execution_count": 27,
   "metadata": {},
   "outputs": [],
   "source": [
    "result_pvalues.to_csv(\"C:/Users/revan/result.csv\", index=False)"
   ]
  },
  {
   "cell_type": "markdown",
   "metadata": {},
   "source": [
    "# 1.4 Manhattan Plots"
   ]
  },
  {
   "cell_type": "code",
   "execution_count": 28,
   "metadata": {},
   "outputs": [
    {
     "data": {
      "text/plain": [
       "Text(0.5, 0, 'SNP Locus')"
      ]
     },
     "execution_count": 28,
     "metadata": {},
     "output_type": "execute_result"
    },
    {
     "data": {
      "image/png": "[encoded data removed]",
      "text/plain": [
       "<Figure size 432x288 with 1 Axes>"
      ]
     },
     "metadata": {
      "needs_background": "light"
     },
     "output_type": "display_data"
    }
   ],
   "source": [
    "# https://stackoverflow.com/questions/37463184/how-to-create-a-manhattan-plot-with-matplotlib-in-python\n",
    "from pandas import DataFrame\n",
    "from scipy.stats import uniform\n",
    "from scipy.stats import randint\n",
    "import numpy as np\n",
    "import matplotlib.pyplot as plt\n",
    "\n",
    "\n",
    "df['minuslog10pvalue'] = -np.log10(df.p_Values)\n",
    "\n",
    "df['SNP'] = range(len(df))\n",
    "df_grouped = df.groupby(('SNP'))\n",
    "\n",
    "fig = plt.figure()\n",
    "ax = fig.add_subplot(111)\n",
    "for num, (name, group) in enumerate(df_grouped):\n",
    "    group.plot(kind='scatter', x='SNP', y='minuslog10pvalue', ax=ax)\n",
    "    \n",
    "plt.axhline(y = 8, color = 'r', label = \"red line\")\n",
    "plt.axhline(y = 11, color = 'r', label = \"red line\")\n",
    "ax.set_xlim([0, len(df.p_Values)])\n",
    "ax.set_ylim([0, 40])\n",
    "ax.set_xlabel('SNP Locus')"
   ]
  }
 ],
 "metadata": {
  "kernelspec": {
   "display_name": "Python 3",
   "language": "python",
   "name": "python3"
  },
  "language_info": {
   "codemirror_mode": {
    "name": "ipython",
    "version": 3
   },
   "file_extension": ".py",
   "mimetype": "text/x-python",
   "name": "python",
   "nbconvert_exporter": "python",
   "pygments_lexer": "ipython3",
   "version": "3.8.5"
  },
  "vscode": {
   "interpreter": {
    "hash": "2716b4325e4f0abbd2706a6ad603701b61a409747ae7b67963f5e5ed9beee39f"
   }
  }
 },
 "nbformat": 4,
 "nbformat_minor": 4
}
